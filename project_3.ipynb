{
  "nbformat": 4,
  "nbformat_minor": 0,
  "metadata": {
    "colab": {
      "name": "project_3.ipynb",
      "provenance": [],
      "include_colab_link": true
    },
    "kernelspec": {
      "name": "python3",
      "display_name": "Python 3"
    }
  },
  "cells": [
    {
      "cell_type": "markdown",
      "metadata": {
        "id": "view-in-github",
        "colab_type": "text"
      },
      "source": [
        "<a href=\"https://colab.research.google.com/github/hnipun/ColabProjects/blob/master/project_3.ipynb\" target=\"_parent\"><img src=\"https://colab.research.google.com/assets/colab-badge.svg\" alt=\"Open In Colab\"/></a>"
      ]
    },
    {
      "cell_type": "code",
      "metadata": {
        "id": "Fj8T-BzuF_OH",
        "colab_type": "code",
        "colab": {}
      },
      "source": [
        "import gzip\n",
        "import numpy as np\n",
        "import matplotlib.pyplot as plt\n",
        "import pandas as pd\n",
        "import math\n",
        "\n",
        "from keras.models import Sequential\n",
        "from keras.layers import Dense, Conv2D, Flatten, MaxPooling2D\n",
        "from keras.utils import to_categorical\n",
        "\n",
        "import os\n",
        "os.environ['TF_CPP_MIN_LOG_LEVEL'] = '3' \n",
        "\n",
        "%matplotlib inline\n",
        "\n",
        "IMAGE_SIZE = 28\n",
        "TRAIN_IMAGES = 60000\n",
        "TEST_IMAGES = 10000 \n"
      ],
      "execution_count": 0,
      "outputs": []
    },
    {
      "cell_type": "code",
      "metadata": {
        "id": "kjQAR_PlNAjt",
        "colab_type": "code",
        "outputId": "afb4065f-2e01-4e20-9795-22b60d49ef9b",
        "colab": {
          "base_uri": "https://localhost:8080/",
          "height": 269
        }
      },
      "source": [
        "def show_image(image):\n",
        "    image = np.asarray(image).squeeze()\n",
        "    plt.imshow(image)\n",
        "    plt.show()\n",
        "\n",
        "def process_images(image_file, label_file, num_images):\n",
        "    count = {}\n",
        "    for i in range(0,11):\n",
        "      count[i] = 0\n",
        "    image_res = []\n",
        "    label_res = []\n",
        "    \n",
        "    \n",
        "    f = gzip.open(image_file,'r')\n",
        "    f.read(16)\n",
        "    buf = f.read(IMAGE_SIZE * IMAGE_SIZE * num_images)\n",
        "    data = np.frombuffer(buf, dtype=np.uint8).astype(np.float32)\n",
        "    data = data.reshape(num_images, IMAGE_SIZE, IMAGE_SIZE, 1)\n",
        "    \n",
        "    f = gzip.open(label_file,'r')\n",
        "    f.read(8)\n",
        "    for index in range(0, num_images):   \n",
        "        buf = f.read(1)\n",
        "        labels = np.frombuffer(buf, dtype=np.uint8).astype(np.int64)\n",
        "        \n",
        "        if not count[labels[0]] >= num_images//100:\n",
        "          image_res.append(data[index])\n",
        "          label_res.append(to_categorical(labels[0], num_classes = 10))\n",
        "          count[labels[0]]+=1\n",
        "        else:\n",
        "          continue\n",
        "        \n",
        "    return np.array(image_res),  np.array(label_res)\n",
        "#%%\n",
        "train_images, train_labels = process_images('/content/train-images-idx3-ubyte.gz', '/content/train-labels-idx1-ubyte.gz', TRAIN_IMAGES)\n",
        "test_images, test_labels  = process_images('/content/t10k-images-idx3-ubyte.gz', '/content/t10k-labels-idx1-ubyte.gz', TEST_IMAGES)\n",
        "#%%\n",
        "show_image(train_images[0])\n",
        "#%%"
      ],
      "execution_count": 6,
      "outputs": [
        {
          "output_type": "display_data",
          "data": {
            "image/png": "[encoded data removed]",
            "text/plain": [
              "<Figure size 432x288 with 1 Axes>"
            ]
          },
          "metadata": {
            "tags": []
          }
        }
      ]
    },
    {
      "cell_type": "code",
      "metadata": {
        "id": "VD1HwiCNdSaX",
        "colab_type": "code",
        "colab": {}
      },
      "source": [
        " def model(kernel_size=3, feature_maps=[6,16]):\n",
        "  # create model\n",
        "  model = Sequential()\n",
        "\n",
        "  # add model layers\n",
        "  model.add(Conv2D(feature_maps[0], kernel_size=kernel_size, activation='sigmoid', strides=(1, 1), input_shape=(28,28,1)))\n",
        "  model.add(MaxPooling2D(pool_size=(2, 2), strides=(1, 1)))\n",
        "  model.add(Conv2D(feature_maps[1], kernel_size=kernel_size, activation='sigmoid'))\n",
        "  model.add(MaxPooling2D(pool_size=(2, 2), strides=(1, 1)))\n",
        "  model.add(Flatten())\n",
        "  model.add(Dense(120, activation='relu'))\n",
        "  model.add(Dense(84, activation='relu'))\n",
        "  model.add(Dense(10, activation='softmax'))\n",
        "  \n",
        "  #summary\n",
        "  model.summary()\n",
        "\n",
        "  #compile model using accuracy to measure model performance\n",
        "  model.compile(optimizer='adam', loss='categorical_crossentropy', metrics=['accuracy'])\n",
        "\n",
        "  #train the model\n",
        "  history = model.fit(train_images, train_labels, validation_data=(test_images, test_labels), epochs=15)\n",
        "  \n",
        "  return history"
      ],
      "execution_count": 0,
      "outputs": []
    },
    {
      "cell_type": "code",
      "metadata": {
        "id": "apxnYhS2lTuR",
        "colab_type": "code",
        "outputId": "180c5215-7c91-4afd-b388-cc199b2b3287",
        "colab": {
          "base_uri": "https://localhost:8080/",
          "height": 952
        }
      },
      "source": [
        "# baseline model\n",
        "history_1 = model()"
      ],
      "execution_count": 32,
      "outputs": [
        {
          "output_type": "stream",
          "text": [
            "Model: \"sequential_11\"\n",
            "_________________________________________________________________\n",
            "Layer (type)                 Output Shape              Param #   \n",
            "=================================================================\n",
            "conv2d_21 (Conv2D)           (None, 26, 26, 6)         60        \n",
            "_________________________________________________________________\n",
            "max_pooling2d_21 (MaxPooling (None, 25, 25, 6)         0         \n",
            "_________________________________________________________________\n",
            "conv2d_22 (Conv2D)           (None, 23, 23, 16)        880       \n",
            "_________________________________________________________________\n",
            "max_pooling2d_22 (MaxPooling (None, 22, 22, 16)        0         \n",
            "_________________________________________________________________\n",
            "flatten_11 (Flatten)         (None, 7744)              0         \n",
            "_________________________________________________________________\n",
            "dense_31 (Dense)             (None, 120)               929400    \n",
            "_________________________________________________________________\n",
            "dense_32 (Dense)             (None, 84)                10164     \n",
            "_________________________________________________________________\n",
            "dense_33 (Dense)             (None, 10)                850       \n",
            "=================================================================\n",
            "Total params: 941,354\n",
            "Trainable params: 941,354\n",
            "Non-trainable params: 0\n",
            "_________________________________________________________________\n",
            "Train on 6000 samples, validate on 1000 samples\n",
            "Epoch 1/15\n",
            "6000/6000 [==============================] - 9s 2ms/step - loss: 1.7869 - acc: 0.3798 - val_loss: 0.8709 - val_acc: 0.7100\n",
            "Epoch 2/15\n",
            "6000/6000 [==============================] - 8s 1ms/step - loss: 0.5050 - acc: 0.8462 - val_loss: 0.3973 - val_acc: 0.8810\n",
            "Epoch 3/15\n",
            "6000/6000 [==============================] - 8s 1ms/step - loss: 0.3276 - acc: 0.9015 - val_loss: 0.2788 - val_acc: 0.9190\n",
            "Epoch 4/15\n",
            "6000/6000 [==============================] - 8s 1ms/step - loss: 0.2477 - acc: 0.9263 - val_loss: 0.2611 - val_acc: 0.9210\n",
            "Epoch 5/15\n",
            "6000/6000 [==============================] - 8s 1ms/step - loss: 0.2002 - acc: 0.9415 - val_loss: 0.2491 - val_acc: 0.9190\n",
            "Epoch 6/15\n",
            "6000/6000 [==============================] - 8s 1ms/step - loss: 0.1712 - acc: 0.9485 - val_loss: 0.2088 - val_acc: 0.9320\n",
            "Epoch 7/15\n",
            "6000/6000 [==============================] - 8s 1ms/step - loss: 0.1475 - acc: 0.9562 - val_loss: 0.1740 - val_acc: 0.9420\n",
            "Epoch 8/15\n",
            "6000/6000 [==============================] - 8s 1ms/step - loss: 0.1156 - acc: 0.9673 - val_loss: 0.1685 - val_acc: 0.9380\n",
            "Epoch 9/15\n",
            "6000/6000 [==============================] - 8s 1ms/step - loss: 0.1012 - acc: 0.9718 - val_loss: 0.1595 - val_acc: 0.9490\n",
            "Epoch 10/15\n",
            "6000/6000 [==============================] - 8s 1ms/step - loss: 0.0947 - acc: 0.9728 - val_loss: 0.1371 - val_acc: 0.9610\n",
            "Epoch 11/15\n",
            "6000/6000 [==============================] - 8s 1ms/step - loss: 0.0820 - acc: 0.9758 - val_loss: 0.1950 - val_acc: 0.9400\n",
            "Epoch 12/15\n",
            "6000/6000 [==============================] - 8s 1ms/step - loss: 0.0778 - acc: 0.9757 - val_loss: 0.1669 - val_acc: 0.9450\n",
            "Epoch 13/15\n",
            "6000/6000 [==============================] - 8s 1ms/step - loss: 0.0674 - acc: 0.9815 - val_loss: 0.1335 - val_acc: 0.9520\n",
            "Epoch 14/15\n",
            "6000/6000 [==============================] - 8s 1ms/step - loss: 0.0555 - acc: 0.9830 - val_loss: 0.1304 - val_acc: 0.9580\n",
            "Epoch 15/15\n",
            "6000/6000 [==============================] - 8s 1ms/step - loss: 0.0540 - acc: 0.9842 - val_loss: 0.1778 - val_acc: 0.9420\n"
          ],
          "name": "stdout"
        }
      ]
    },
    {
      "cell_type": "code",
      "metadata": {
        "id": "JItG4DnsXqev",
        "colab_type": "code",
        "colab": {
          "base_uri": "https://localhost:8080/",
          "height": 952
        },
        "outputId": "f31ea94a-e470-44b2-ea03-453f5b32ca47"
      },
      "source": [
        "# change the kernel size\n",
        "history_2 = model(kernel_size=5)"
      ],
      "execution_count": 33,
      "outputs": [
        {
          "output_type": "stream",
          "text": [
            "Model: \"sequential_12\"\n",
            "_________________________________________________________________\n",
            "Layer (type)                 Output Shape              Param #   \n",
            "=================================================================\n",
            "conv2d_23 (Conv2D)           (None, 24, 24, 6)         156       \n",
            "_________________________________________________________________\n",
            "max_pooling2d_23 (MaxPooling (None, 23, 23, 6)         0         \n",
            "_________________________________________________________________\n",
            "conv2d_24 (Conv2D)           (None, 19, 19, 16)        2416      \n",
            "_________________________________________________________________\n",
            "max_pooling2d_24 (MaxPooling (None, 18, 18, 16)        0         \n",
            "_________________________________________________________________\n",
            "flatten_12 (Flatten)         (None, 5184)              0         \n",
            "_________________________________________________________________\n",
            "dense_34 (Dense)             (None, 120)               622200    \n",
            "_________________________________________________________________\n",
            "dense_35 (Dense)             (None, 84)                10164     \n",
            "_________________________________________________________________\n",
            "dense_36 (Dense)             (None, 10)                850       \n",
            "=================================================================\n",
            "Total params: 635,786\n",
            "Trainable params: 635,786\n",
            "Non-trainable params: 0\n",
            "_________________________________________________________________\n",
            "Train on 6000 samples, validate on 1000 samples\n",
            "Epoch 1/15\n",
            "6000/6000 [==============================] - 10s 2ms/step - loss: 1.2357 - acc: 0.5830 - val_loss: 0.4102 - val_acc: 0.8590\n",
            "Epoch 2/15\n",
            "6000/6000 [==============================] - 8s 1ms/step - loss: 0.2860 - acc: 0.9115 - val_loss: 0.2477 - val_acc: 0.9310\n",
            "Epoch 3/15\n",
            "6000/6000 [==============================] - 8s 1ms/step - loss: 0.2064 - acc: 0.9398 - val_loss: 0.2367 - val_acc: 0.9290\n",
            "Epoch 4/15\n",
            "6000/6000 [==============================] - 8s 1ms/step - loss: 0.1565 - acc: 0.9517 - val_loss: 0.2596 - val_acc: 0.9150\n",
            "Epoch 5/15\n",
            "6000/6000 [==============================] - 8s 1ms/step - loss: 0.1245 - acc: 0.9602 - val_loss: 0.1318 - val_acc: 0.9630\n",
            "Epoch 6/15\n",
            "6000/6000 [==============================] - 8s 1ms/step - loss: 0.0991 - acc: 0.9693 - val_loss: 0.1303 - val_acc: 0.9610\n",
            "Epoch 7/15\n",
            "6000/6000 [==============================] - 8s 1ms/step - loss: 0.0945 - acc: 0.9717 - val_loss: 0.1447 - val_acc: 0.9510\n",
            "Epoch 8/15\n",
            "6000/6000 [==============================] - 8s 1ms/step - loss: 0.0730 - acc: 0.9778 - val_loss: 0.1007 - val_acc: 0.9650\n",
            "Epoch 9/15\n",
            "6000/6000 [==============================] - 8s 1ms/step - loss: 0.0587 - acc: 0.9798 - val_loss: 0.1105 - val_acc: 0.9660\n",
            "Epoch 10/15\n",
            "6000/6000 [==============================] - 8s 1ms/step - loss: 0.0627 - acc: 0.9795 - val_loss: 0.1039 - val_acc: 0.9630\n",
            "Epoch 11/15\n",
            "6000/6000 [==============================] - 8s 1ms/step - loss: 0.0476 - acc: 0.9860 - val_loss: 0.0976 - val_acc: 0.9710\n",
            "Epoch 12/15\n",
            "6000/6000 [==============================] - 8s 1ms/step - loss: 0.0480 - acc: 0.9837 - val_loss: 0.0963 - val_acc: 0.9670\n",
            "Epoch 13/15\n",
            "6000/6000 [==============================] - 8s 1ms/step - loss: 0.0308 - acc: 0.9907 - val_loss: 0.1247 - val_acc: 0.9630\n",
            "Epoch 14/15\n",
            "6000/6000 [==============================] - 8s 1ms/step - loss: 0.0330 - acc: 0.9885 - val_loss: 0.1121 - val_acc: 0.9640\n",
            "Epoch 15/15\n",
            "6000/6000 [==============================] - 8s 1ms/step - loss: 0.0199 - acc: 0.9947 - val_loss: 0.1403 - val_acc: 0.9620\n"
          ],
          "name": "stdout"
        }
      ]
    },
    {
      "cell_type": "code",
      "metadata": {
        "id": "Yo2bvZIpX345",
        "colab_type": "code",
        "colab": {
          "base_uri": "https://localhost:8080/",
          "height": 952
        },
        "outputId": "6bd89199-d2d1-4071-89c0-ff04d44587ce"
      },
      "source": [
        "# change the number of feature maps\n",
        "history_3 = model(feature_maps=[12,32])"
      ],
      "execution_count": 34,
      "outputs": [
        {
          "output_type": "stream",
          "text": [
            "Model: \"sequential_13\"\n",
            "_________________________________________________________________\n",
            "Layer (type)                 Output Shape              Param #   \n",
            "=================================================================\n",
            "conv2d_25 (Conv2D)           (None, 26, 26, 12)        120       \n",
            "_________________________________________________________________\n",
            "max_pooling2d_25 (MaxPooling (None, 25, 25, 12)        0         \n",
            "_________________________________________________________________\n",
            "conv2d_26 (Conv2D)           (None, 23, 23, 32)        3488      \n",
            "_________________________________________________________________\n",
            "max_pooling2d_26 (MaxPooling (None, 22, 22, 32)        0         \n",
            "_________________________________________________________________\n",
            "flatten_13 (Flatten)         (None, 15488)             0         \n",
            "_________________________________________________________________\n",
            "dense_37 (Dense)             (None, 120)               1858680   \n",
            "_________________________________________________________________\n",
            "dense_38 (Dense)             (None, 84)                10164     \n",
            "_________________________________________________________________\n",
            "dense_39 (Dense)             (None, 10)                850       \n",
            "=================================================================\n",
            "Total params: 1,873,302\n",
            "Trainable params: 1,873,302\n",
            "Non-trainable params: 0\n",
            "_________________________________________________________________\n",
            "Train on 6000 samples, validate on 1000 samples\n",
            "Epoch 1/15\n",
            "6000/6000 [==============================] - 15s 2ms/step - loss: 1.7890 - acc: 0.4168 - val_loss: 0.6587 - val_acc: 0.7790\n",
            "Epoch 2/15\n",
            "6000/6000 [==============================] - 13s 2ms/step - loss: 0.3842 - acc: 0.8830 - val_loss: 0.2992 - val_acc: 0.9030\n",
            "Epoch 3/15\n",
            "6000/6000 [==============================] - 13s 2ms/step - loss: 0.2190 - acc: 0.9320 - val_loss: 0.2140 - val_acc: 0.9310\n",
            "Epoch 4/15\n",
            "6000/6000 [==============================] - 13s 2ms/step - loss: 0.1702 - acc: 0.9493 - val_loss: 0.2651 - val_acc: 0.9040\n",
            "Epoch 5/15\n",
            "6000/6000 [==============================] - 13s 2ms/step - loss: 0.1274 - acc: 0.9625 - val_loss: 0.1865 - val_acc: 0.9340\n",
            "Epoch 6/15\n",
            "6000/6000 [==============================] - 13s 2ms/step - loss: 0.1160 - acc: 0.9643 - val_loss: 0.2287 - val_acc: 0.9250\n",
            "Epoch 7/15\n",
            "6000/6000 [==============================] - 13s 2ms/step - loss: 0.0925 - acc: 0.9720 - val_loss: 0.1293 - val_acc: 0.9610\n",
            "Epoch 8/15\n",
            "6000/6000 [==============================] - 13s 2ms/step - loss: 0.0776 - acc: 0.9762 - val_loss: 0.1451 - val_acc: 0.9590\n",
            "Epoch 9/15\n",
            "6000/6000 [==============================] - 13s 2ms/step - loss: 0.0686 - acc: 0.9772 - val_loss: 0.1684 - val_acc: 0.9520\n",
            "Epoch 10/15\n",
            "6000/6000 [==============================] - 13s 2ms/step - loss: 0.0631 - acc: 0.9777 - val_loss: 0.1426 - val_acc: 0.9570\n",
            "Epoch 11/15\n",
            "6000/6000 [==============================] - 13s 2ms/step - loss: 0.0458 - acc: 0.9862 - val_loss: 0.1331 - val_acc: 0.9570\n",
            "Epoch 12/15\n",
            "6000/6000 [==============================] - 13s 2ms/step - loss: 0.0414 - acc: 0.9887 - val_loss: 0.1500 - val_acc: 0.9540\n",
            "Epoch 13/15\n",
            "6000/6000 [==============================] - 13s 2ms/step - loss: 0.0340 - acc: 0.9897 - val_loss: 0.1661 - val_acc: 0.9540\n",
            "Epoch 14/15\n",
            "6000/6000 [==============================] - 13s 2ms/step - loss: 0.0269 - acc: 0.9932 - val_loss: 0.1489 - val_acc: 0.9600\n",
            "Epoch 15/15\n",
            "6000/6000 [==============================] - 13s 2ms/step - loss: 0.0347 - acc: 0.9890 - val_loss: 0.1230 - val_acc: 0.9640\n"
          ],
          "name": "stdout"
        }
      ]
    },
    {
      "cell_type": "code",
      "metadata": {
        "id": "F0xzI0JVZfyR",
        "colab_type": "code",
        "colab": {
          "base_uri": "https://localhost:8080/",
          "height": 729
        },
        "outputId": "80b6a37e-3202-4109-b6d7-220c6310ba38"
      },
      "source": [
        "plt.figure(figsize=(10,10))\n",
        "\n",
        "plt.plot(history_1.history['loss'], label = \"baseline model\") \n",
        "plt.plot(history_2.history['loss'], label = \"kernel size = 5\") \n",
        "plt.plot(history_3.history['loss'], label = \"change number of feature maps\") \n",
        "\n",
        "plt.xlabel('number of epoches') \n",
        "plt.ylabel('error') \n",
        "plt.title('Error plots') \n",
        "plt.legend()\n",
        "\n",
        "plt.tight_layout()\n",
        "plt.show() "
      ],
      "execution_count": 35,
      "outputs": [
        {
          "output_type": "display_data",
          "data": {
            "image/png": "[encoded data removed]",
            "text/plain": [
              "<Figure size 720x720 with 1 Axes>"
            ]
          },
          "metadata": {
            "tags": []
          }
        }
      ]
    }
  ]
}