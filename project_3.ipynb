{
  "nbformat": 4,
  "nbformat_minor": 0,
  "metadata": {
    "colab": {
      "name": "project_3.ipynb",
      "provenance": [],
      "include_colab_link": true
    },
    "kernelspec": {
      "name": "python3",
      "display_name": "Python 3"
    }
  },
  "cells": [
    {
      "cell_type": "markdown",
      "metadata": {
        "id": "view-in-github",
        "colab_type": "text"
      },
      "source": [
        "<a href=\"https://colab.research.google.com/github/hnipun/ColabProjects/blob/master/project_3.ipynb\" target=\"_parent\"><img src=\"https://colab.research.google.com/assets/colab-badge.svg\" alt=\"Open In Colab\"/></a>"
      ]
    },
    {
      "cell_type": "code",
      "metadata": {
        "id": "Fj8T-BzuF_OH",
        "colab_type": "code",
        "colab": {}
      },
      "source": [
        "#%%\n",
        "import gzip\n",
        "import numpy as np\n",
        "import matplotlib.pyplot as plt\n",
        "import pandas as pd\n",
        "import math\n",
        "\n",
        "from keras.models import Sequential\n",
        "from keras.layers import Dense, Conv2D, Flatten, MaxPooling2D\n",
        "from keras.utils import to_categorical\n",
        "\n",
        "import os\n",
        "os.environ['TF_CPP_MIN_LOG_LEVEL'] = '3' \n",
        "\n",
        "IMAGE_SIZE = 28\n",
        "TRAIN_IMAGES = 60000\n",
        "TEST_IMAGES = 10000 \n",
        "#%%"
      ],
      "execution_count": 0,
      "outputs": []
    },
    {
      "cell_type": "code",
      "metadata": {
        "id": "kjQAR_PlNAjt",
        "colab_type": "code",
        "outputId": "afb4065f-2e01-4e20-9795-22b60d49ef9b",
        "colab": {
          "base_uri": "https://localhost:8080/",
          "height": 269
        }
      },
      "source": [
        "def show_image(image):\n",
        "    image = np.asarray(image).squeeze()\n",
        "    plt.imshow(image)\n",
        "    plt.show()\n",
        "\n",
        "def process_images(image_file, label_file, num_images):\n",
        "    count = {}\n",
        "    for i in range(0,11):\n",
        "      count[i] = 0\n",
        "    image_res = []\n",
        "    label_res = []\n",
        "    \n",
        "    \n",
        "    f = gzip.open(image_file,'r')\n",
        "    f.read(16)\n",
        "    buf = f.read(IMAGE_SIZE * IMAGE_SIZE * num_images)\n",
        "    data = np.frombuffer(buf, dtype=np.uint8).astype(np.float32)\n",
        "    data = data.reshape(num_images, IMAGE_SIZE, IMAGE_SIZE, 1)\n",
        "    \n",
        "    f = gzip.open(label_file,'r')\n",
        "    f.read(8)\n",
        "    for index in range(0, num_images):   \n",
        "        buf = f.read(1)\n",
        "        labels = np.frombuffer(buf, dtype=np.uint8).astype(np.int64)\n",
        "        \n",
        "        if not count[labels[0]] >= num_images//100:\n",
        "          image_res.append(data[index])\n",
        "          label_res.append(to_categorical(labels[0], num_classes = 10))\n",
        "          count[labels[0]]+=1\n",
        "        else:\n",
        "          continue\n",
        "        \n",
        "    return np.array(image_res),  np.array(label_res)\n",
        "#%%\n",
        "train_images, train_labels = process_images('/content/train-images-idx3-ubyte.gz', '/content/train-labels-idx1-ubyte.gz', TRAIN_IMAGES)\n",
        "test_images, test_labels  = process_images('/content/t10k-images-idx3-ubyte.gz', '/content/t10k-labels-idx1-ubyte.gz', TEST_IMAGES)\n",
        "#%%\n",
        "show_image(train_images[0])\n",
        "#%%"
      ],
      "execution_count": 6,
      "outputs": [
        {
          "output_type": "display_data",
          "data": {
            "image/png": "[encoded data removed]",
            "text/plain": [
              "<Figure size 432x288 with 1 Axes>"
            ]
          },
          "metadata": {
            "tags": []
          }
        }
      ]
    },
    {
      "cell_type": "code",
      "metadata": {
        "id": "VD1HwiCNdSaX",
        "colab_type": "code",
        "colab": {}
      },
      "source": [
        " def model(kernel_size=3, feature_maps=[6,16]):\n",
        "  # create model\n",
        "  model = Sequential()\n",
        "\n",
        "  # add model layers\n",
        "  model.add(Conv2D(feature_maps[0], kernel_size=kernel_size, activation='sigmoid', strides=(1, 1), input_shape=(28,28,1)))\n",
        "  model.add(MaxPooling2D(pool_size=(2, 2), strides=(1, 1)))\n",
        "  model.add(Conv2D(feature_maps[1], kernel_size=kernel_size, activation='sigmoid'))\n",
        "  model.add(MaxPooling2D(pool_size=(2, 2), strides=(1, 1)))\n",
        "  model.add(Flatten())\n",
        "  model.add(Dense(120, activation='relu'))\n",
        "  model.add(Dense(84, activation='relu'))\n",
        "  model.add(Dense(10, activation='softmax'))\n",
        "  \n",
        "  #summary\n",
        "  model.summary()\n",
        "\n",
        "  #compile model using accuracy to measure model performance\n",
        "  model.compile(optimizer='adam', loss='categorical_crossentropy', metrics=['accuracy'])\n",
        "\n",
        "  #train the model\n",
        "  history = model.fit(train_images, train_labels, validation_data=(test_images, test_labels), epochs=10)\n",
        "  \n",
        "  return history"
      ],
      "execution_count": 0,
      "outputs": []
    },
    {
      "cell_type": "code",
      "metadata": {
        "id": "apxnYhS2lTuR",
        "colab_type": "code",
        "outputId": "8e1ecc26-4165-4115-a21b-7eb11d719b86",
        "colab": {
          "base_uri": "https://localhost:8080/",
          "height": 782
        }
      },
      "source": [
        "# baseline model\n",
        "history_1 = model()"
      ],
      "execution_count": 13,
      "outputs": [
        {
          "output_type": "stream",
          "text": [
            "Model: \"sequential_4\"\n",
            "_________________________________________________________________\n",
            "Layer (type)                 Output Shape              Param #   \n",
            "=================================================================\n",
            "conv2d_7 (Conv2D)            (None, 26, 26, 6)         60        \n",
            "_________________________________________________________________\n",
            "max_pooling2d_7 (MaxPooling2 (None, 25, 25, 6)         0         \n",
            "_________________________________________________________________\n",
            "conv2d_8 (Conv2D)            (None, 23, 23, 16)        880       \n",
            "_________________________________________________________________\n",
            "max_pooling2d_8 (MaxPooling2 (None, 22, 22, 16)        0         \n",
            "_________________________________________________________________\n",
            "flatten_4 (Flatten)          (None, 7744)              0         \n",
            "_________________________________________________________________\n",
            "dense_10 (Dense)             (None, 120)               929400    \n",
            "_________________________________________________________________\n",
            "dense_11 (Dense)             (None, 84)                10164     \n",
            "_________________________________________________________________\n",
            "dense_12 (Dense)             (None, 10)                850       \n",
            "=================================================================\n",
            "Total params: 941,354\n",
            "Trainable params: 941,354\n",
            "Non-trainable params: 0\n",
            "_________________________________________________________________\n",
            "Train on 6000 samples, validate on 1000 samples\n",
            "Epoch 1/10\n",
            "6000/6000 [==============================] - 8s 1ms/step - loss: 2.0529 - acc: 0.2798 - val_loss: 1.2031 - val_acc: 0.5970\n",
            "Epoch 2/10\n",
            "6000/6000 [==============================] - 7s 1ms/step - loss: 0.7815 - acc: 0.7390 - val_loss: 0.5531 - val_acc: 0.8200\n",
            "Epoch 3/10\n",
            "6000/6000 [==============================] - 7s 1ms/step - loss: 0.4640 - acc: 0.8587 - val_loss: 0.4656 - val_acc: 0.8470\n",
            "Epoch 4/10\n",
            "6000/6000 [==============================] - 7s 1ms/step - loss: 0.3789 - acc: 0.8838 - val_loss: 0.3675 - val_acc: 0.8730\n",
            "Epoch 5/10\n",
            "6000/6000 [==============================] - 7s 1ms/step - loss: 0.3076 - acc: 0.9087 - val_loss: 0.3948 - val_acc: 0.8700\n",
            "Epoch 6/10\n",
            "6000/6000 [==============================] - 8s 1ms/step - loss: 0.2722 - acc: 0.9148 - val_loss: 0.3196 - val_acc: 0.8910\n",
            "Epoch 7/10\n",
            "6000/6000 [==============================] - 8s 1ms/step - loss: 0.2478 - acc: 0.9242 - val_loss: 0.2629 - val_acc: 0.9210\n",
            "Epoch 8/10\n",
            "6000/6000 [==============================] - 7s 1ms/step - loss: 0.2093 - acc: 0.9388 - val_loss: 0.3085 - val_acc: 0.9000\n",
            "Epoch 9/10\n",
            "6000/6000 [==============================] - 8s 1ms/step - loss: 0.1987 - acc: 0.9383 - val_loss: 0.2836 - val_acc: 0.9060\n",
            "Epoch 10/10\n",
            "6000/6000 [==============================] - 8s 1ms/step - loss: 0.1781 - acc: 0.9470 - val_loss: 0.2735 - val_acc: 0.9160\n"
          ],
          "name": "stdout"
        }
      ]
    },
    {
      "cell_type": "code",
      "metadata": {
        "id": "JItG4DnsXqev",
        "colab_type": "code",
        "colab": {
          "base_uri": "https://localhost:8080/",
          "height": 782
        },
        "outputId": "f79ddd6a-b60e-4afd-8007-0bbe9512511e"
      },
      "source": [
        "# change the kernel size\n",
        "history_2 = model(kernel_size=5)"
      ],
      "execution_count": 14,
      "outputs": [
        {
          "output_type": "stream",
          "text": [
            "Model: \"sequential_5\"\n",
            "_________________________________________________________________\n",
            "Layer (type)                 Output Shape              Param #   \n",
            "=================================================================\n",
            "conv2d_9 (Conv2D)            (None, 24, 24, 6)         156       \n",
            "_________________________________________________________________\n",
            "max_pooling2d_9 (MaxPooling2 (None, 23, 23, 6)         0         \n",
            "_________________________________________________________________\n",
            "conv2d_10 (Conv2D)           (None, 19, 19, 16)        2416      \n",
            "_________________________________________________________________\n",
            "max_pooling2d_10 (MaxPooling (None, 18, 18, 16)        0         \n",
            "_________________________________________________________________\n",
            "flatten_5 (Flatten)          (None, 5184)              0         \n",
            "_________________________________________________________________\n",
            "dense_13 (Dense)             (None, 120)               622200    \n",
            "_________________________________________________________________\n",
            "dense_14 (Dense)             (None, 84)                10164     \n",
            "_________________________________________________________________\n",
            "dense_15 (Dense)             (None, 10)                850       \n",
            "=================================================================\n",
            "Total params: 635,786\n",
            "Trainable params: 635,786\n",
            "Non-trainable params: 0\n",
            "_________________________________________________________________\n",
            "Train on 6000 samples, validate on 1000 samples\n",
            "Epoch 1/10\n",
            "6000/6000 [==============================] - 8s 1ms/step - loss: 1.1956 - acc: 0.5895 - val_loss: 0.3790 - val_acc: 0.8750\n",
            "Epoch 2/10\n",
            "6000/6000 [==============================] - 8s 1ms/step - loss: 0.2490 - acc: 0.9218 - val_loss: 0.2071 - val_acc: 0.9350\n",
            "Epoch 3/10\n",
            "6000/6000 [==============================] - 8s 1ms/step - loss: 0.1703 - acc: 0.9478 - val_loss: 0.1609 - val_acc: 0.9490\n",
            "Epoch 4/10\n",
            "6000/6000 [==============================] - 8s 1ms/step - loss: 0.1350 - acc: 0.9575 - val_loss: 0.1613 - val_acc: 0.9520\n",
            "Epoch 5/10\n",
            "6000/6000 [==============================] - 8s 1ms/step - loss: 0.1061 - acc: 0.9685 - val_loss: 0.1737 - val_acc: 0.9410\n",
            "Epoch 6/10\n",
            "6000/6000 [==============================] - 8s 1ms/step - loss: 0.0825 - acc: 0.9742 - val_loss: 0.1391 - val_acc: 0.9570\n",
            "Epoch 7/10\n",
            "6000/6000 [==============================] - 8s 1ms/step - loss: 0.0708 - acc: 0.9795 - val_loss: 0.1440 - val_acc: 0.9530\n",
            "Epoch 8/10\n",
            "6000/6000 [==============================] - 8s 1ms/step - loss: 0.0556 - acc: 0.9825 - val_loss: 0.1073 - val_acc: 0.9650\n",
            "Epoch 9/10\n",
            "6000/6000 [==============================] - 8s 1ms/step - loss: 0.0531 - acc: 0.9820 - val_loss: 0.1094 - val_acc: 0.9630\n",
            "Epoch 10/10\n",
            "6000/6000 [==============================] - 8s 1ms/step - loss: 0.0425 - acc: 0.9875 - val_loss: 0.1140 - val_acc: 0.9580\n"
          ],
          "name": "stdout"
        }
      ]
    },
    {
      "cell_type": "code",
      "metadata": {
        "id": "Yo2bvZIpX345",
        "colab_type": "code",
        "colab": {
          "base_uri": "https://localhost:8080/",
          "height": 782
        },
        "outputId": "290b824d-272f-4fe9-a0f8-29435e9c821a"
      },
      "source": [
        "# change the number of feature maps\n",
        "history_2 = model(feature_maps=[12,32])"
      ],
      "execution_count": 16,
      "outputs": [
        {
          "output_type": "stream",
          "text": [
            "Model: \"sequential_6\"\n",
            "_________________________________________________________________\n",
            "Layer (type)                 Output Shape              Param #   \n",
            "=================================================================\n",
            "conv2d_11 (Conv2D)           (None, 26, 26, 12)        120       \n",
            "_________________________________________________________________\n",
            "max_pooling2d_11 (MaxPooling (None, 25, 25, 12)        0         \n",
            "_________________________________________________________________\n",
            "conv2d_12 (Conv2D)           (None, 23, 23, 32)        3488      \n",
            "_________________________________________________________________\n",
            "max_pooling2d_12 (MaxPooling (None, 22, 22, 32)        0         \n",
            "_________________________________________________________________\n",
            "flatten_6 (Flatten)          (None, 15488)             0         \n",
            "_________________________________________________________________\n",
            "dense_16 (Dense)             (None, 120)               1858680   \n",
            "_________________________________________________________________\n",
            "dense_17 (Dense)             (None, 84)                10164     \n",
            "_________________________________________________________________\n",
            "dense_18 (Dense)             (None, 10)                850       \n",
            "=================================================================\n",
            "Total params: 1,873,302\n",
            "Trainable params: 1,873,302\n",
            "Non-trainable params: 0\n",
            "_________________________________________________________________\n",
            "Train on 6000 samples, validate on 1000 samples\n",
            "Epoch 1/10\n",
            "6000/6000 [==============================] - 14s 2ms/step - loss: 1.8377 - acc: 0.3730 - val_loss: 0.7474 - val_acc: 0.7620\n",
            "Epoch 2/10\n",
            "6000/6000 [==============================] - 13s 2ms/step - loss: 0.4235 - acc: 0.8642 - val_loss: 0.3945 - val_acc: 0.8580\n",
            "Epoch 3/10\n",
            "6000/6000 [==============================] - 13s 2ms/step - loss: 0.2530 - acc: 0.9253 - val_loss: 0.2572 - val_acc: 0.9160\n",
            "Epoch 4/10\n",
            "6000/6000 [==============================] - 13s 2ms/step - loss: 0.1967 - acc: 0.9395 - val_loss: 0.2226 - val_acc: 0.9290\n",
            "Epoch 5/10\n",
            "6000/6000 [==============================] - 13s 2ms/step - loss: 0.1551 - acc: 0.9535 - val_loss: 0.2206 - val_acc: 0.9380\n",
            "Epoch 6/10\n",
            "6000/6000 [==============================] - 13s 2ms/step - loss: 0.1351 - acc: 0.9590 - val_loss: 0.1930 - val_acc: 0.9460\n",
            "Epoch 7/10\n",
            "6000/6000 [==============================] - 13s 2ms/step - loss: 0.1196 - acc: 0.9628 - val_loss: 0.1608 - val_acc: 0.9540\n",
            "Epoch 8/10\n",
            "6000/6000 [==============================] - 13s 2ms/step - loss: 0.0984 - acc: 0.9695 - val_loss: 0.1454 - val_acc: 0.9560\n",
            "Epoch 9/10\n",
            "6000/6000 [==============================] - 13s 2ms/step - loss: 0.0888 - acc: 0.9717 - val_loss: 0.1884 - val_acc: 0.9400\n",
            "Epoch 10/10\n",
            "6000/6000 [==============================] - 13s 2ms/step - loss: 0.0822 - acc: 0.9745 - val_loss: 0.1321 - val_acc: 0.9610\n"
          ],
          "name": "stdout"
        }
      ]
    }
  ]
}