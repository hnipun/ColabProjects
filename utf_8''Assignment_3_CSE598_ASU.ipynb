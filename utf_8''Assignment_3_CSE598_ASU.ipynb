{
  "nbformat": 4,
  "nbformat_minor": 0,
  "metadata": {
    "coursera": {
      "course_slug": "cse598",
      "graded_item_id": "7yJ0z",
      "launcher_item_id": "l7T6m"
    },
    "kernelspec": {
      "display_name": "Python 3",
      "language": "python",
      "name": "python3"
    },
    "language_info": {
      "codemirror_mode": {
        "name": "ipython",
        "version": 3
      },
      "file_extension": ".py",
      "mimetype": "text/x-python",
      "name": "python",
      "nbconvert_exporter": "python",
      "pygments_lexer": "ipython3",
      "version": "3.7.1"
    },
    "colab": {
      "name": "utf-8''Assignment_3_CSE598_ASU.ipynb",
      "provenance": [],
      "toc_visible": true,
      "include_colab_link": true
    }
  },
  "cells": [
    {
      "cell_type": "markdown",
      "metadata": {
        "id": "view-in-github",
        "colab_type": "text"
      },
      "source": [
        "<a href=\"https://colab.research.google.com/github/hnipun/ColabProjects/blob/master/utf_8''Assignment_3_CSE598_ASU.ipynb\" target=\"_parent\"><img src=\"https://colab.research.google.com/assets/colab-badge.svg\" alt=\"Open In Colab\"/></a>"
      ]
    },
    {
      "cell_type": "markdown",
      "metadata": {
        "id": "UWB868tXsfZg",
        "colab_type": "text"
      },
      "source": [
        "Before you turn this problem in, make sure everything runs as expected. First, **restart the kernel** (in the menubar, select Kernel$\\rightarrow$Restart) and then **run all cells** (in the menubar, select Cell$\\rightarrow$Run All).\n",
        "\n",
        "Make sure you fill in any place that says `YOUR CODE HERE` or \"YOUR ANSWER HERE\" below:"
      ]
    },
    {
      "cell_type": "code",
      "metadata": {
        "id": "s3oC3rN1sfZi",
        "colab_type": "code",
        "colab": {}
      },
      "source": [
        "NAME = \"Nipun WIjerathne\""
      ],
      "execution_count": 0,
      "outputs": []
    },
    {
      "cell_type": "markdown",
      "metadata": {
        "id": "SrpdwzAdsfZl",
        "colab_type": "text"
      },
      "source": [
        "---"
      ]
    },
    {
      "cell_type": "markdown",
      "metadata": {
        "colab_type": "text",
        "deletable": false,
        "editable": false,
        "id": "1alZGrU--N3h",
        "nbgrader": {
          "cell_type": "markdown",
          "checksum": "69d2889e30977bcb5cde92ad72793eae",
          "grade": false,
          "grade_id": "cell-559e06fab022e928",
          "locked": true,
          "schema_version": 3,
          "solution": false
        }
      },
      "source": [
        "## Convolutional Neural Networks\n",
        "\n",
        "In the previous assignment, we have implemented a neural network using numpy. The goal of this assignment is to make you familiar with PyTorch and build a model in PyTorch using FashionMNIST data for Image classification. In this assignment we will build a Convolutional Neural Network that is better at extracting image features for classification.\n",
        " \n",
        "**Note**: You can use Google Colab (https://colab.research.google.com/) for training with GPUs. You can also train the model using your local machine CPU or Coursera Jupyter Notebook similar to the previous assignments.\n",
        "\n",
        "**Note**: The assignment will be graded offline - So, you would not be able to see the autograded scores at the end of your submission.\n",
        "\n",
        "This assignment has two submissions\n",
        "\n",
        "\n",
        "1.   The Python notebook submission on Coursera similar to previous assignments\n",
        "2.   An HTML version of the completed assignment (You can download the HTML version from Jupyter Notebook on Coursera from the menu File > Download As > .html file) \n",
        "\n"
      ]
    },
    {
      "cell_type": "markdown",
      "metadata": {
        "colab_type": "text",
        "id": "YxwDdsSF-N3i"
      },
      "source": [
        "We first import the neccesary packages required to build the model. We will also set the seed for random generation in order to reproduce results through out the process to have a deterministic behaviour(reproduce same results) of the model. "
      ]
    },
    {
      "cell_type": "code",
      "metadata": {
        "colab_type": "code",
        "deletable": false,
        "editable": false,
        "id": "nB0QS--y-N3j",
        "nbgrader": {
          "cell_type": "code",
          "checksum": "65040e3b2ee655357aca532971eab971",
          "grade": false,
          "grade_id": "cell-675473914c4b9f68",
          "locked": true,
          "schema_version": 3,
          "solution": false
        },
        "outputId": "214abdfe-cb1d-43ae-ae37-6e9fa105d407",
        "colab": {
          "base_uri": "https://localhost:8080/",
          "height": 139
        }
      },
      "source": [
        "# Imports\n",
        "# Mount the drive using the below imports while using google colab.\n",
        "from google.colab import drive\n",
        "drive.mount('/content/drive')\n",
        "\n",
        "import os\n",
        "import time\n",
        "import numpy as np\n",
        "import torch\n",
        "import random\n",
        "import torchvision\n",
        "import torchvision.transforms as transforms\n",
        "from torch.utils.data.sampler import SubsetRandomSampler\n",
        "# from tqdm import trange\n",
        "\n",
        "# Checks for the availability of GPU \n",
        "if torch.cuda.is_available():\n",
        "    print(\"working on gpu!\")\n",
        "    device = 'cuda'\n",
        "else:\n",
        "    print(\"No gpu! only cpu ;)\")\n",
        "    device = 'cpu'\n",
        "    \n",
        "# device = 'cpu'\n",
        "    \n",
        "## The following random seeds are just for deterministic behaviour of the code and evaluation\n",
        "\n",
        "##############################################################################\n",
        "################### DO NOT MODIFY THE CODE BELOW #############################    \n",
        "##############################################################################\n",
        "\n",
        "if device == 'cpu':    \n",
        "    random.seed(0)\n",
        "    np.random.seed(0)\n",
        "    torch.manual_seed(0)\n",
        "elif device == 'cuda':\n",
        "    random.seed(0)\n",
        "    np.random.seed(0)\n",
        "    torch.manual_seed(0)\n",
        "    torch.cuda.manual_seed_all(0)\n",
        "    torch.backends.cudnn.deterministic = True\n",
        "    torch.backends.cudnn.benchmark = False\n",
        "    os.environ['PYTHONHASHSEED'] = '0'\n",
        "\n",
        "############################################################################### \n"
      ],
      "execution_count": 2,
      "outputs": [
        {
          "output_type": "stream",
          "text": [
            "Go to this URL in a browser: https://accounts.google.com/o/oauth2/auth?client_id=947318989803-6bn6qk8qdgf4n4g3pfee6491hc0brc4i.apps.googleusercontent.com&redirect_uri=urn%3aietf%3awg%3aoauth%3a2.0%3aoob&response_type=code&scope=email%20https%3a%2f%2fwww.googleapis.com%2fauth%2fdocs.test%20https%3a%2f%2fwww.googleapis.com%2fauth%2fdrive%20https%3a%2f%2fwww.googleapis.com%2fauth%2fdrive.photos.readonly%20https%3a%2f%2fwww.googleapis.com%2fauth%2fpeopleapi.readonly\n",
            "\n",
            "Enter your authorization code:\n",
            "··········\n",
            "Mounted at /content/drive\n",
            "No gpu! only cpu ;)\n"
          ],
          "name": "stdout"
        }
      ]
    },
    {
      "cell_type": "markdown",
      "metadata": {
        "colab_type": "text",
        "deletable": false,
        "editable": false,
        "id": "y3NAKWei-N3n",
        "nbgrader": {
          "cell_type": "markdown",
          "checksum": "02b12e1d0d4719f342fe919f126ad3b2",
          "grade": false,
          "grade_id": "cell-9c87add622617c1e",
          "locked": true,
          "schema_version": 3,
          "solution": false
        }
      },
      "source": [
        "### Arranging the data\n",
        "\n",
        "In the following cell we will first download and re-structure the data. FashionMNIST dataset is already available in the official PyTorch repository.\n",
        "You can find a detailed description of the dataset here: https://www.kaggle.com/zalando-research/fashionmnist \n",
        "\n",
        "The following cell checks for the availability of FashionMNIST data and downloads if the data is not available.   \n",
        "\n",
        "The following parts are already written for you to handle the data.\n",
        "- Import neccesary PyTorch packages for data handling.\n",
        "- We then move the data onto PyTorch tensors.  \n",
        "- Next we define the parameters like batch_size for data handling. A different batch_size for test data is used to make sure that number of samples in the test data are perfectly divisible.\n",
        "- Create dataloaders for training and testing data to iterate."
      ]
    },
    {
      "cell_type": "code",
      "metadata": {
        "colab_type": "code",
        "deletable": false,
        "editable": false,
        "id": "793zWYAt-N3o",
        "nbgrader": {
          "cell_type": "code",
          "checksum": "9039bf7cccf514b4cd796ee4e68fe3b7",
          "grade": false,
          "grade_id": "cell-e518bb36bae17b30",
          "locked": true,
          "schema_version": 3,
          "solution": false
        },
        "colab": {}
      },
      "source": [
        "import torchvision\n",
        "import torchvision.transforms as transforms\n",
        "import os\n",
        "\n",
        "if not os.path.isdir('./data'):\n",
        "    os.mkdir('./data')\n",
        "root = './data/'\n",
        "\n",
        "transform = transforms.Compose([transforms.ToTensor(),\n",
        "                              transforms.Normalize([0.5], [0.5]),\n",
        "                             ])\n",
        "\n",
        "training_data = torchvision.datasets.FashionMNIST(root, train=True, transform=transform,download=True)\n",
        "testing_data = torchvision.datasets.FashionMNIST(root, train=False, transform=transform,download=True)\n",
        "\n",
        "num_train = len(training_data)\n",
        "indices = list(range(num_train))\n",
        "np.random.shuffle(indices)\n",
        "split = int(np.floor(0.2 * num_train))\n",
        "train_idx, valid_idx = indices[split:], indices[:split]\n",
        "\n",
        "train_bs = 128\n",
        "test_bs = 64\n",
        "\n",
        "train_sampler = SubsetRandomSampler(train_idx)\n",
        "valid_sampler = SubsetRandomSampler(valid_idx)\n",
        "\n",
        "train_loader = torch.utils.data.DataLoader(training_data, batch_size=train_bs,\n",
        "    sampler=train_sampler, drop_last=False)\n",
        "valid_loader = torch.utils.data.DataLoader(training_data, batch_size=train_bs, \n",
        "    sampler=valid_sampler, drop_last=False)\n",
        "test_loader = torch.utils.data.DataLoader(testing_data, batch_size=test_bs, \n",
        "    drop_last=False)\n"
      ],
      "execution_count": 0,
      "outputs": []
    },
    {
      "cell_type": "markdown",
      "metadata": {
        "colab_type": "text",
        "id": "WD3NXPs_-N3q"
      },
      "source": [
        "### Peek into data\n",
        "\n",
        "In the following cell we will visualize a few data samples from the dataset."
      ]
    },
    {
      "cell_type": "code",
      "metadata": {
        "colab_type": "code",
        "deletable": false,
        "editable": false,
        "id": "ZahznKsY-N3r",
        "nbgrader": {
          "cell_type": "code",
          "checksum": "90ae3f4babd95a0683c24a5bd7819b74",
          "grade": false,
          "grade_id": "cell-1168a8b4140174bf",
          "locked": true,
          "schema_version": 3,
          "solution": false
        },
        "outputId": "bd3d071f-6400-434d-c6b4-4be36e78c6b5",
        "colab": {
          "base_uri": "https://localhost:8080/",
          "height": 485
        }
      },
      "source": [
        "import matplotlib.pyplot as plt\n",
        "%matplotlib inline\n",
        "\n",
        "## get a batch of data\n",
        "images, labels = iter(train_loader).next()\n",
        "\n",
        "\n",
        "image_dict = {0:'T-shirt/Top', 1:'Trouser', 2:'Pullover', 3:'Dress',\n",
        "              4:'Coat', 5:'Sandal', 6:'Shirt', 7:'Sneaker',\n",
        "              8:'Bag', 9:'Ankle Boot'}\n",
        "\n",
        "fig = plt.figure(figsize=(8,8))\n",
        "\n",
        "print(images.size())\n",
        "\n",
        "for i in np.arange(1, 13):\n",
        "    ax = fig.add_subplot(3,4,i, frameon=False)\n",
        "    img = images[i][0]\n",
        "    ax.set_title(image_dict[labels[i].item()])\n",
        "    plt.imshow(img)\n"
      ],
      "execution_count": 6,
      "outputs": [
        {
          "output_type": "stream",
          "text": [
            "torch.Size([128, 1, 28, 28])\n"
          ],
          "name": "stdout"
        },
        {
          "output_type": "display_data",
          "data": {
            "image/png": "[encoded data removed]",
            "text/plain": [
              "<Figure size 576x576 with 12 Axes>"
            ]
          },
          "metadata": {
            "tags": []
          }
        }
      ]
    },
    {
      "cell_type": "markdown",
      "metadata": {
        "colab_type": "text",
        "id": "ptOiS4go-N3t"
      },
      "source": [
        "### Architecture\n",
        "\n",
        "We implement a Convolutional Neural Network as our model. We make use of the following layers in our model.\n",
        "- A convolution layer for extracting features.\n",
        "- A batchnorm layer for normalizing the weights in the hidden layers.\n",
        "- ReLU activation function for introducing non-linearity between layers.\n",
        "- Finally, fully connected layers at the end.\n",
        "\n",
        "#### Model:\n",
        "\n",
        "Network Architecture\n",
        "\n",
        "- A convolution layer number of output_channels-16, kernel_size=3, stride=1, padding-1\n",
        "- batchnormalization layer\n",
        "- ReLU activation layer\n",
        "- A maxpool layer kernel_size=2, stride=2\n",
        "- A convolution layer number of output_channels-32, kernel_size=3, stride=1, padding-1\n",
        "- Batchnormalization layer\n",
        "- ReLU activation layer\n",
        "- Maxpool layer kernel_size=2, stride=2\n",
        "- A convolution layer number of output_channels-64, kernel_size=3, stride=1, padding-1\n",
        "- Batchnormalization layer\n",
        "- ReLU activation layer\n",
        "- A maxpool layer kernel_size=2, stride=2\n",
        "- A fully connected layer - number_of_classes\n",
        "\n",
        "![](images/cnn.png)\n",
        "\n",
        "### Build the model\n",
        "\n",
        "- We first define a class called Model.\n",
        "- In init(constructor), we define all the layers that are used to build the model\n",
        "- Finally, we define a sequential model in the forward function that takes in images as input and returns the predictions as output.\n",
        "\n",
        "All the functions are available in the PyTorch package. Read the documentation/source code for a better understanding.\n",
        "\n",
        "- Convolutional layer: https://pytorch.org/docs/stable/nn.html#convolution-layers\n",
        "- Batchnorm layer: https://pytorch.org/docs/stable/nn.html#normalization-layers\n",
        "- Activation ReLU: https://pytorch.org/docs/stable/nn.html#non-linear-activations-weighted-sum-nonlinearity\n",
        "- Maxpooling layer: https://pytorch.org/docs/stable/nn.html#pooling-layers\n",
        "- Fully connected layer: https://pytorch.org/docs/stable/nn.html#linear-layers\n",
        "\n"
      ]
    },
    {
      "cell_type": "code",
      "metadata": {
        "colab_type": "code",
        "deletable": false,
        "id": "mwi3Sat--N3u",
        "nbgrader": {
          "cell_type": "code",
          "checksum": "5faea9a5033acca2b65f9a07c69082ec",
          "grade": false,
          "grade_id": "cell-377cf97e5126cc8a",
          "locked": false,
          "schema_version": 3,
          "solution": true
        },
        "colab": {}
      },
      "source": [
        "import torch.nn as nn\n",
        "import torch.optim as optim\n",
        "\n",
        "class Model(nn.Module):\n",
        "    ## init function is the constructor and we define all the layers used in our model. \n",
        "    def __init__(self, num_classes=10):\n",
        "        super(Model, self).__init__()\n",
        "        ''' \n",
        "        REST OF THE MODEL HERE\n",
        "        \n",
        "        # define a convolutional layer with kernel_size=3, stride=1 and padding=1\n",
        "        \n",
        "        # define a batchnormalization layer \n",
        "        \n",
        "        # define a relu layer.\n",
        "        \n",
        "        # define a maxpool layer.\n",
        "        \n",
        "        # define a convolutional layer with kernel_size=3, stride=1 and padding=1.\n",
        "        \n",
        "        # define a batchnormalization layer \n",
        "        \n",
        "        # define a relu layer.\n",
        "        \n",
        "        # define a maxpool layer.\n",
        "        \n",
        "        # define a convolution layer with kernel_size=3, stride=1 and padding=1.\n",
        "        \n",
        "        # define a batchnorm layer.\n",
        "        \n",
        "        # define a relu layer.\n",
        "        \n",
        "        # define a maxpool layer.\n",
        "        \n",
        "        # define a fully connected layer from dimension -> number of classes.\n",
        "        \n",
        "        \n",
        "        '''\n",
        "        # YOUR CODE HERE\n",
        "        self.cnn_layers = nn.Sequential(\n",
        "            nn.Conv2d(1, 16, kernel_size=3, stride=1, padding=1),\n",
        "            nn.BatchNorm2d(16),\n",
        "            nn.ReLU(inplace=True),\n",
        "            nn.MaxPool2d(kernel_size=2, stride=2),\n",
        "            \n",
        "            nn.Conv2d(16, 32, kernel_size=3, stride=1, padding=1),\n",
        "            nn.BatchNorm2d(32),\n",
        "            nn.ReLU(inplace=True),\n",
        "            nn.MaxPool2d(kernel_size=2, stride=2),\n",
        "            \n",
        "            nn.Conv2d(32, 64, kernel_size=3, stride=1, padding=1),\n",
        "            nn.BatchNorm2d(64),\n",
        "            nn.ReLU(inplace=True),\n",
        "            nn.MaxPool2d(kernel_size=2, stride=2),\n",
        "        )\n",
        "        \n",
        "        self.linear_layers = nn.Sequential(\n",
        "            nn.Linear(64 * 3 * 3, 10)\n",
        "        )\n",
        "        # raise NotImplementedError()\n",
        "        \n",
        "    def forward(self, x):\n",
        "        # YOUR CODE HERE\n",
        "        x = self.cnn_layers(x)\n",
        "        x = self.flatten(x)\n",
        "        x = self.linear_layers(x)\n",
        "        return x\n",
        "        #raise NotImplementedError()\n",
        "        \n",
        "        \n",
        "        '''\n",
        "        CODE HERE.\n",
        "        \n",
        "        # Note that before the fully connected(fc) layer, the output is a feature map with size (N,C,H,W)\n",
        "        but a fully connected layer expects an input of size (N, dimension). so, before passing the output of\n",
        "        maxpool layer to the fc layer, we must first flatten the output of previous layer to a size (N,C*H*W) \n",
        "        and then pass it to the fully connected layer.  \n",
        "        \n",
        "        To flatten the output of the layer before fc layer, pass it through the flatten function first and then \n",
        "        input it to the fully connected layer.\n",
        "         \n",
        "        '''\n",
        "        \n",
        "        return x\n",
        "    \n",
        "    def flatten(self, x):\n",
        "        N, C, H, W = x.size()\n",
        "        ## CODE HERE\n",
        "        ## reshape x to (N, C*H*W) \n",
        "        \n",
        "        # YOUR CODE HERE\n",
        "        #raise NotImplementedError()\n",
        "        x = x.view(x.size(0), -1)\n",
        "        \n",
        "        return x\n",
        "        \n",
        "        \n",
        "    "
      ],
      "execution_count": 0,
      "outputs": []
    },
    {
      "cell_type": "code",
      "metadata": {
        "colab_type": "code",
        "deletable": false,
        "editable": false,
        "id": "W2FEgqyf-N3x",
        "nbgrader": {
          "cell_type": "code",
          "checksum": "8641a237d609c97f5d75a169a4653f67",
          "grade": true,
          "grade_id": "cell-cd1cb5622fe024a9",
          "locked": true,
          "points": 30,
          "schema_version": 3,
          "solution": false
        },
        "colab": {}
      },
      "source": [
        "## Run the cell to check the implementation of your model\n",
        "model = Model(num_classes=10)\n",
        "test_input = torch.randn(16,1,28,28)\n",
        "out = model(test_input)\n",
        "test_input2 = torch.rand(16,1,28,28)\n",
        "out2 = model(test_input2)"
      ],
      "execution_count": 0,
      "outputs": []
    },
    {
      "cell_type": "code",
      "metadata": {
        "colab_type": "code",
        "id": "c7769bwj-N3z",
        "colab": {}
      },
      "source": [
        "## Hyperparameters for training the model.\n",
        "learning_rate = 0.0001\n",
        "epochs = 7\n",
        "number_of_classes = 10"
      ],
      "execution_count": 0,
      "outputs": []
    },
    {
      "cell_type": "markdown",
      "metadata": {
        "colab_type": "text",
        "id": "X7u1yk8k-N31"
      },
      "source": [
        "Define a loss criterion:\n",
        "We will use cross-entropy loss between the predictions and ground truth to estimate the loss. \n",
        "- CrossEntropyLoss - https://pytorch.org/docs/stable/nn.html#crossentropyloss\n",
        "\n",
        "We also define an optimization strategy to update the weights. We use the commonly used Adam optimizer from the PyTorch package.\n",
        "\n",
        "- Adam - https://pytorch.org/docs/stable/optim.html#algorithms "
      ]
    },
    {
      "cell_type": "code",
      "metadata": {
        "colab_type": "code",
        "deletable": false,
        "id": "v8MDfVKA-N32",
        "nbgrader": {
          "cell_type": "code",
          "checksum": "099667a26b8a8f30a76142c16f53113d",
          "grade": false,
          "grade_id": "cell-608a7c14b9ca670d",
          "locked": false,
          "schema_version": 3,
          "solution": true
        },
        "colab": {}
      },
      "source": [
        "## First we will define an instance of the model to train\n",
        "model = Model(num_classes=number_of_classes)\n",
        "model = model.to(device)\n",
        "\n",
        "# define the loss\n",
        "# YOUR CODE HERE\n",
        "# raise NotImplementedError()\n",
        "criterion = nn.CrossEntropyLoss()\n",
        "\n",
        "# optimizer for the model, here we use Adam optimizer with a learning rate=0.001, momentum as 0.9\n",
        "# and nesterov True.  \n",
        "# YOUR CODE HERE\n",
        "#raise NotImplementedError()\n",
        "\n",
        "optimizer = optim.Adam(model.parameters(), lr=0.001)"
      ],
      "execution_count": 0,
      "outputs": []
    },
    {
      "cell_type": "code",
      "metadata": {
        "colab_type": "code",
        "deletable": false,
        "editable": false,
        "id": "O3nPhAM3-N34",
        "nbgrader": {
          "cell_type": "code",
          "checksum": "a6c321477c3afe6f2e8dc496642803f7",
          "grade": true,
          "grade_id": "cell-8e0aafd793260ea4",
          "locked": true,
          "points": 10,
          "schema_version": 3,
          "solution": false
        },
        "colab": {}
      },
      "source": [
        "out = torch.FloatTensor([[0.1,0.8,0.05,0.05]])\n",
        "true = torch.LongTensor([1])\n",
        "assert criterion(out, true), 0.8925"
      ],
      "execution_count": 0,
      "outputs": []
    },
    {
      "cell_type": "markdown",
      "metadata": {
        "colab_type": "text",
        "deletable": false,
        "editable": false,
        "id": "yyAWaqoV-N38",
        "nbgrader": {
          "cell_type": "markdown",
          "checksum": "18fddf668b49c5f35273809430e127bd",
          "grade": false,
          "grade_id": "cell-1e2e5baffbc2c303",
          "locked": true,
          "schema_version": 3,
          "solution": false
        }
      },
      "source": [
        "The training loop is setup in the following way:\n",
        "\n",
        "For every batch in the given number of epochs\n",
        "\n",
        "- Move the images and labels to the device\n",
        "- Extract outputs by passing images as input.\n",
        "- pass the output and ground truth labels to the loss criterion for batch loss\n",
        "- clear the gradients \n",
        "- backpropagate (compute gradients w.r.t the parameters)\n",
        "- update the parameters with a single optimization step\n",
        "- update the training loss for plots\n",
        "\n",
        "repeat"
      ]
    },
    {
      "cell_type": "code",
      "metadata": {
        "colab_type": "code",
        "deletable": false,
        "id": "tG73ZQDS-N39",
        "nbgrader": {
          "cell_type": "code",
          "checksum": "140c5b341b4f57ce3221bfaba22332a2",
          "grade": false,
          "grade_id": "cell-cd089af6097d7fa8",
          "locked": false,
          "schema_version": 3,
          "solution": true
        },
        "colab": {}
      },
      "source": [
        "## training loop \n",
        "\n",
        "## Number of epochs the model runs\n",
        "\n",
        "def mean(l):\n",
        "  return sum(l) / len(l)\n",
        "\n",
        "def train_model(epochs=25, validate=True):\n",
        "    '''\n",
        "    A function to train the model on the dataset and returns the trained model, training loss and\n",
        "    validation loss for every epoch.\n",
        "    \n",
        "    Inputs:\n",
        "        epochs: Number of times the model should be trained on the whole data.\n",
        "        validate: A boolean parameter that validates on validation data.\n",
        "        \n",
        "    outputs:\n",
        "        model: The model trained for specified number of epochs\n",
        "        training loss: A list of training losses computed for every epoch.\n",
        "        validation loss: A list of validation losses computed for every epoch.\n",
        "    \n",
        "    '''\n",
        "    train_loss = []\n",
        "    val_loss = []\n",
        "\n",
        "    for epoch in range(epochs):\n",
        "        print(epoch)\n",
        "        # Iterate through the batches in the data\n",
        "        training_loss = 0.0\n",
        "        validation_loss = 0.0\n",
        "\n",
        "        model.train()\n",
        "        # for (images,labels)  in trange(train_loader, leave=False):\n",
        "        for (images,labels), (images_val, labels_val) in zip(train_loader, valid_loader):\n",
        "            # YOUR CODE HERE\n",
        "            # raise NotImplementedError()\n",
        "            '''\n",
        "            CODE HERE\n",
        "            '''\n",
        "            ## Move the images to the device\n",
        "            images = images.to(device)\n",
        "            ## Move the labels to the device\n",
        "            labels = labels.to(device)\n",
        "            ## Get the output of the model by passing input to the model\n",
        "            output_train = model(images)\n",
        "            ## Find the loss of the input batch by passing output & ground truth labels to the criterion\n",
        "            loss_train = criterion(output_train, labels)\n",
        "            training_loss += loss_train.item()\n",
        "            ## clear the gradients\n",
        "            optimizer.zero_grad()\n",
        "            ## compute the gradients by backpropagating through the computational graph.\n",
        "            loss_train.backward()\n",
        "            ## update the parameters \n",
        "            optimizer.step()\n",
        "\n",
        "            ## Move the validation images to the device\n",
        "            images_val = images_val.to(device)\n",
        "            ## Move the validation labels to the device\n",
        "            labels_val = labels_val.to(device)\n",
        "            ## Get the output of the model by passing input to the model\n",
        "            output_val = model(images_val)\n",
        "            ## Find the loss of the input batch by passing output & ground truth labels to the criterion\n",
        "            loss_val = criterion(output_val, labels_val)\n",
        "            validation_loss += loss_val.item()\n",
        "\n",
        "        train_loss.append(training_loss)\n",
        "        val_loss.append(validation_loss)\n",
        "    return model, train_loss, val_loss\n",
        "                "
      ],
      "execution_count": 0,
      "outputs": []
    },
    {
      "cell_type": "code",
      "metadata": {
        "id": "vnrNZHXRv_dm",
        "colab_type": "code",
        "colab": {
          "base_uri": "https://localhost:8080/",
          "height": 153
        },
        "outputId": "8f72217c-b396-47b4-8205-377b42260e51"
      },
      "source": [
        "start = time.time()\n",
        "trained_model, train_loss, val_loss = train_model(epochs, validate=True)\n",
        "end = time.time()\n",
        "print(end - start)"
      ],
      "execution_count": 52,
      "outputs": [
        {
          "output_type": "stream",
          "text": [
            "0\n",
            "1\n",
            "2\n",
            "3\n",
            "4\n",
            "5\n",
            "6\n",
            "124.50752019882202\n"
          ],
          "name": "stdout"
        }
      ]
    },
    {
      "cell_type": "code",
      "metadata": {
        "colab_type": "code",
        "deletable": false,
        "editable": false,
        "id": "IwSZekAZ-N4F",
        "nbgrader": {
          "cell_type": "code",
          "checksum": "8e12aa54daa529184ce87590889347cc",
          "grade": false,
          "grade_id": "cell-35244d9978da3c81",
          "locked": true,
          "schema_version": 3,
          "solution": false
        },
        "outputId": "6c1931ca-00e7-4422-8349-7896ec6bb0ed",
        "colab": {
          "base_uri": "https://localhost:8080/",
          "height": 281
        }
      },
      "source": [
        "# Plot the losses\n",
        "it = np.arange(epochs)\n",
        "plt.plot(it, train_loss, label='training loss')\n",
        "plt.plot(it, val_loss, label='validation loss')\n",
        "plt.xlabel('epochs')\n",
        "plt.ylabel('losses')\n",
        "plt.legend(loc='upper right')\n",
        "plt.show()"
      ],
      "execution_count": 53,
      "outputs": [
        {
          "output_type": "display_data",
          "data": {
            "image/png": "[encoded data removed]",
            "text/plain": [
              "<Figure size 432x288 with 1 Axes>"
            ]
          },
          "metadata": {
            "tags": []
          }
        }
      ]
    },
    {
      "cell_type": "markdown",
      "metadata": {
        "colab_type": "text",
        "deletable": false,
        "editable": false,
        "id": "trq26Sq0-N4H",
        "nbgrader": {
          "cell_type": "markdown",
          "checksum": "a28bbdb71f7e179a097fa57665d51de7",
          "grade": false,
          "grade_id": "cell-fe85b51930497822",
          "locked": true,
          "schema_version": 3,
          "solution": false
        }
      },
      "source": [
        "### Testing Loop\n",
        "\n",
        "During Testing, we don't update the model weights. The trained model is tested for all the samples in test data to compute the accuracy and observe how well the model is generalizing to the unseen data. \n",
        "\n",
        "The testing loop is setup in the following way: \n",
        "\n",
        "For every batch in the testing data:\n",
        "\n",
        "- Put the model in the evaluation mode and turn off the gradients\n",
        "- Move the images and labels to the device\n",
        "- Extract output from the model for the input\n",
        "- Compute the prediction class by choosing the one with maximum probability in the predictions.\n",
        "- Compare the prediction classes with true classes.\n",
        "- Calculate accuracy\n",
        "- Update test_loss for plots\n",
        "\n",
        "repeat\n"
      ]
    },
    {
      "cell_type": "code",
      "metadata": {
        "colab_type": "code",
        "deletable": false,
        "id": "vBeu0ows-N4I",
        "nbgrader": {
          "cell_type": "code",
          "checksum": "5b7d187378c5b0b1c5c135dab704544b",
          "grade": false,
          "grade_id": "cell-5446a3b9ea2a47b8",
          "locked": false,
          "schema_version": 3,
          "solution": true
        },
        "outputId": "cda3f056-8a90-448e-dce9-a576ee4ccd20",
        "colab": {
          "base_uri": "https://localhost:8080/",
          "height": 51
        }
      },
      "source": [
        "## Testing Loop\n",
        "def count_correct(preds, labels):\n",
        "  count = 0\n",
        "  for pred, label in zip(preds, labels):\n",
        "    if pred == label:\n",
        "      count += 1\n",
        "  return count\n",
        "\n",
        "def test_model(model):\n",
        "    '''\n",
        "    A function to test the trained model on the test dataset and print the accuracy.\n",
        "    \n",
        "    Inputs:\n",
        "        model: Trained model.\n",
        "        \n",
        "    outputs:\n",
        "        None. Prints the accuracy.\n",
        "    '''\n",
        "    model.eval()\n",
        "    with torch.no_grad():\n",
        "        correct = 0.0\n",
        "        total_samples = 0.0\n",
        "        for images, labels in test_loader:\n",
        "            \n",
        "            # YOUR CODE HERE\n",
        "            # raise NotImplementedError()\n",
        "            '''\n",
        "            YOUR CODE HERE\n",
        "            '''\n",
        "            ## Move the images to the device\n",
        "            images = images.to(device)\n",
        "            ## Move the labels to the device\n",
        "            labels = labels.to(device)\n",
        "            ## Get the output of the model by passing images as input to the model\n",
        "            output = model(images)\n",
        "            ## convert the outputs to a probability distribution using softmax and \n",
        "            softmax = torch.exp(output).cpu()\n",
        "            ## find the prediction with maximum probability\n",
        "            prob = list(softmax.numpy())\n",
        "            predictions = np.argmax(prob, axis=1)\n",
        "            ## compare predictions with ground truth for number of correct samples\n",
        "            correct += count_correct(predictions, [label.item() for label in labels])\n",
        "\n",
        "            total_samples += labels.size(0)\n",
        "        \n",
        "        accuracy = (correct/total_samples)*100\n",
        "        print(\"Total Accuracy on the Test set: {} %\".format(accuracy))\n",
        "        return accuracy\n",
        "    \n",
        "        \n",
        "test_model(model)\n",
        "    "
      ],
      "execution_count": 49,
      "outputs": [
        {
          "output_type": "stream",
          "text": [
            "Total Accuracy on the Test set: 90.94 %\n"
          ],
          "name": "stdout"
        },
        {
          "output_type": "execute_result",
          "data": {
            "text/plain": [
              "90.94"
            ]
          },
          "metadata": {
            "tags": []
          },
          "execution_count": 49
        }
      ]
    },
    {
      "cell_type": "code",
      "metadata": {
        "colab_type": "code",
        "deletable": false,
        "editable": false,
        "id": "z3rr6Yzd-N4N",
        "nbgrader": {
          "cell_type": "code",
          "checksum": "785f5b553c62009145adcee84f126b36",
          "grade": false,
          "grade_id": "cell-06766329c9d4e874",
          "locked": true,
          "schema_version": 3,
          "solution": false
        },
        "outputId": "fbd1d407-8720-478e-e21c-15b14568a4be",
        "colab": {
          "base_uri": "https://localhost:8080/",
          "height": 879
        }
      },
      "source": [
        "## Visualize the test samples with predicted output and true output\n",
        "images, labels = iter(test_loader).next()\n",
        "# images = images.numpy()\n",
        "images = images.to(device)\n",
        "labels = labels.to(device)\n",
        "\n",
        "out = model(images)\n",
        "_, preds = torch.max(out, dim=1)\n",
        "\n",
        "fig = plt.figure(figsize=(15,15))\n",
        "for i in np.arange(1, 13):\n",
        "    images = images.cpu().float()\n",
        "    ax = fig.add_subplot(4, 3, i)\n",
        "    plt.imshow(images[i][0])\n",
        "    ax.set_title(\"Predicted: {}/ Actual: {}\".format(image_dict[preds[i].item()], image_dict[labels[i].item()]), \n",
        "                color=('green' if preds[i] == labels[i] else 'red'))"
      ],
      "execution_count": 45,
      "outputs": [
        {
          "output_type": "display_data",
          "data": {
            "image/png": "[encoded data removed]",
            "text/plain": [
              "<Figure size 1080x1080 with 12 Axes>"
            ]
          },
          "metadata": {
            "tags": []
          }
        }
      ]
    }
  ]
}